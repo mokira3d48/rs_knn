{
 "cells": [
  {
   "cell_type": "markdown",
   "id": "c735a75d-a191-4eec-a2e8-118e939f5037",
   "metadata": {},
   "source": [
    "# Système de recommendation avec KNN\n",
    "\n",
    "<div align=\"center\">\n",
    "<div><img width=\"80%\" height=\"80%\" src=\"./images/cover.png\" title=\"Système de recommendation avec KNN\"/></div>\n",
    "<div><a href=\"https://humboldt-wi.github.io/blog/research/information_systems_1819/is_lda_final/\">Source de l'image</a> </div>\n",
    "</div>"
   ]
  },
  {
   "cell_type": "markdown",
   "id": "ed6d8705-0bcd-4746-aa65-90ec53a0e1fe",
   "metadata": {},
   "source": [
    "# Introduction"
   ]
  },
  {
   "cell_type": "markdown",
   "id": "fa645562-4fd0-49b7-8930-6a230964f9dc",
   "metadata": {},
   "source": [
    "Pratiquement tout le monde a vécu une expérience en ligne où un site Web fait des recommandations personnalisées pour chaque client dans l'espoir d'avoir plus de vente et mieux satisfaire la demande. *Netflix* a décerné un prix d'un million de dollars à une équipe de développeurs en 2009, pour un algorithme qui a augmenté la précision du système de recommandation de l'entreprise de 10 %."
   ]
  },
  {
   "cell_type": "markdown",
   "id": "110423ae-2912-49d9-9500-aba806c77129",
   "metadata": {},
   "source": [
    "# Données"
   ]
  },
  {
   "cell_type": "markdown",
   "id": "50cc4b7b-1d3d-4f01-8eeb-98be539654fd",
   "metadata": {},
   "source": [
    "[**Book-Crossings**](http://www2.informatik.uni-freiburg.de/~cziegler/BX/) est un ensemble de données sur les notes de livres compilé par Cai-Nicolas Ziegler. Il contient 1,1 million d'évaluations de 270 000 livres par 90 000 utilisateurs. Les notes sont sur une échelle de 1 à 10.\n",
    "\n",
    "Les données se composent de trois tableaux repartis dans trois fichier au format CSV :\n",
    "- `BX-Book-Ratings.csv` qui comporte les données d'évaluations;\n",
    "- `BX-Books.csv` qui comporte les informations sur les livres;\n",
    "- `BX-Users.csv` qui comporte les informations sur les utilisateurs.\n",
    "\n",
    "Pour télécharger et décompresser ces trois (3) qui constituent l'ensemble de données, il faut juste exécuter les deux commandes suivantes qui va nous télécharger un fichier compressé se trouvant à cette [adresse](https://cdn.freecodecamp.org/project-data/books/book-crossings.zip).\n",
    "\n",
    "```shell\n",
    "wget -c https://cdn.freecodecamp.org/project-data/books/book-crossings.zip && \\\n",
    "unzip book-crossings.zip -d data\n",
    "```\n",
    "Voici le code pour un noteboock :"
   ]
  },
  {
   "cell_type": "code",
   "execution_count": 6,
   "id": "5e66a048-87eb-4b13-b276-adeab30df76c",
   "metadata": {},
   "outputs": [
    {
     "name": "stdout",
     "output_type": "stream",
     "text": [
      "--2023-08-04 03:56:53--  https://cdn.freecodecamp.org/project-data/books/book-crossings.zip\n",
      "Resolving cdn.freecodecamp.org (cdn.freecodecamp.org)... 104.26.3.33, 172.67.70.149, 104.26.2.33, ...\n",
      "Connecting to cdn.freecodecamp.org (cdn.freecodecamp.org)|104.26.3.33|:443... connected.\n",
      "HTTP request sent, awaiting response... 200 OK\n",
      "Length: 26085508 (25M) [application/zip]\n",
      "Saving to: ‘book-crossings.zip’\n",
      "\n",
      "book-crossings.zip  100%[===================>]  24.88M  49.8KB/s    in 11m 59s \n",
      "\n",
      "2023-08-04 04:08:54 (35.4 KB/s) - ‘book-crossings.zip’ saved [26085508/26085508]\n",
      "\n",
      "Archive:  book-crossings.zip\n",
      "  inflating: data/BX-Book-Ratings.csv  \n",
      "  inflating: data/BX-Books.csv       \n",
      "  inflating: data/BX-Users.csv       \n"
     ]
    }
   ],
   "source": [
    "!wget -c https://cdn.freecodecamp.org/project-data/books/book-crossings.zip && \\\n",
    "unzip book-crossings.zip -d data"
   ]
  },
  {
   "cell_type": "markdown",
   "id": "669d93c5-d5cc-4290-bcaa-efd1b8bb2d05",
   "metadata": {},
   "source": [
    "On va utiliser la librairy Pandas pour charger les fichiers."
   ]
  },
  {
   "cell_type": "code",
   "execution_count": 13,
   "id": "655f7e80-0a7a-4374-a45f-b5b339b4be7d",
   "metadata": {},
   "outputs": [
    {
     "name": "stdout",
     "output_type": "stream",
     "text": [
      "Books:\n",
      "         isbn                                              title  \\\n",
      "0  0195153448                                Classical Mythology   \n",
      "1  0002005018                                       Clara Callan   \n",
      "2  0060973129                               Decision in Normandy   \n",
      "3  0374157065  Flu: The Story of the Great Influenza Pandemic...   \n",
      "4  0393045218                             The Mummies of Urumchi   \n",
      "\n",
      "                 author  \n",
      "0    Mark P. O. Morford  \n",
      "1  Richard Bruce Wright  \n",
      "2          Carlo D'Este  \n",
      "3      Gina Bari Kolata  \n",
      "4       E. J. W. Barber  \n",
      "Users:\n",
      "   user_id                            location   age\n",
      "0        1                  nyc, new york, usa   NaN\n",
      "1        2           stockton, california, usa  18.0\n",
      "2        3     moscow, yukon territory, russia   NaN\n",
      "3        4           porto, v.n.gaia, portugal  17.0\n",
      "4        5  farnborough, hants, united kingdom   NaN\n",
      "Evaluations:\n",
      "     user        isbn  rating\n",
      "0  276725  034545104X     0.0\n",
      "1  276726  0155061224     5.0\n",
      "2  276727  0446520802     0.0\n",
      "3  276729  052165615X     3.0\n",
      "4  276729  0521795028     6.0\n"
     ]
    }
   ],
   "source": [
    "import os\n",
    "import pandas as pd\n",
    "\n",
    "\n",
    "DATA_DIR = './data'\n",
    "books_filename = os.path.join(DATA_DIR, 'BX-Books.csv')\n",
    "users_filename = os.path.join(DATA_DIR, 'BX-Users.csv')\n",
    "ratings_filename = os.path.join(DATA_DIR, 'BX-Book-Ratings.csv')\n",
    "\n",
    "df_books = pd.read_csv(\n",
    "    books_filename,\n",
    "    encoding = \"ISO-8859-1\",\n",
    "    sep=\";\",\n",
    "    header=0,\n",
    "    names=['isbn', 'title', 'author'],\n",
    "    usecols=['isbn', 'title', 'author'],\n",
    "    dtype={'isbn': 'str', 'title': 'str', 'author': 'str'}\n",
    ")\n",
    "\n",
    "df_users = pd.read_csv(\n",
    "    users_filename,\n",
    "    encoding = \"ISO-8859-1\",\n",
    "    sep=\";\",\n",
    "    header=0,\n",
    "    usecols=['user_id', 'location', 'age'],\n",
    "    names=['user_id', 'location', 'age'],\n",
    "    dtype={'user_id': 'int32', 'location': 'str'}\n",
    ")\n",
    "\n",
    "df_ratings = pd.read_csv(\n",
    "    ratings_filename,\n",
    "    encoding = \"ISO-8859-1\",\n",
    "    sep=\";\",\n",
    "    header=0,\n",
    "    names=['user', 'isbn', 'rating'],\n",
    "    usecols=['user', 'isbn', 'rating'],\n",
    "    dtype={'user': 'int32', 'isbn': 'str', 'rating': 'float32'}\n",
    ")\n",
    "\n",
    "print(f\"Books:\\n{df_books.head()}\")\n",
    "print(f\"Users:\\n{df_users.head()}\")\n",
    "print(f\"Evaluations:\\n{df_ratings.head()}\")"
   ]
  },
  {
   "cell_type": "markdown",
   "id": "3a638524-0af6-459d-9c26-42090458bba5",
   "metadata": {},
   "source": [
    "L'ensemble de données d'évaluation `df_ratings` fournit une liste des évaluations que les utilisateurs ont attribuées aux livres. Il comprend 1 149 780 enregistrements et 3 colonnes : \n",
    "- `userID` renommé en `user`;\n",
    "- `ISBN` renommé en `isbn`;\n",
    "- et `bookRating` renommé en `ratting`."
   ]
  },
  {
   "cell_type": "code",
   "execution_count": 15,
   "id": "59dd4f3b-6c29-4d9c-83a5-3bd81d0a9296",
   "metadata": {},
   "outputs": [
    {
     "name": "stdout",
     "output_type": "stream",
     "text": [
      "(1149780, 3)\n",
      "['user', 'isbn', 'rating']\n"
     ]
    }
   ],
   "source": [
    "print(df_ratings.shape)  # affiche le nombre de lignes et colonnes.\n",
    "print(list(df_ratings))  # affiche la liste des colonnes."
   ]
  },
  {
   "cell_type": "code",
   "execution_count": null,
   "id": "8a7d71da-1442-4d31-ae44-c4bf5e9e68a7",
   "metadata": {},
   "outputs": [],
   "source": []
  }
 ],
 "metadata": {
  "kernelspec": {
   "display_name": "Python 3 (ipykernel)",
   "language": "python",
   "name": "python3"
  },
  "language_info": {
   "codemirror_mode": {
    "name": "ipython",
    "version": 3
   },
   "file_extension": ".py",
   "mimetype": "text/x-python",
   "name": "python",
   "nbconvert_exporter": "python",
   "pygments_lexer": "ipython3",
   "version": "3.11.4"
  }
 },
 "nbformat": 4,
 "nbformat_minor": 5
}
